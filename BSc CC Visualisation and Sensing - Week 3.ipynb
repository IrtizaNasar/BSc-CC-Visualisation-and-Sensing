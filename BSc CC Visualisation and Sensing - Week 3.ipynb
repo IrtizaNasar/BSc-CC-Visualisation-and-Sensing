{
 "cells": [
  {
   "cell_type": "markdown",
   "id": "5dbdb0df",
   "metadata": {},
   "source": [
    "# Week 3 - Introduction to Pandas"
   ]
  },
  {
   "cell_type": "markdown",
   "id": "8f38d68e",
   "metadata": {},
   "source": [
    "## Installing and importing a python package/library "
   ]
  },
  {
   "cell_type": "markdown",
   "id": "3b2e842d",
   "metadata": {},
   "source": [
    "- Installing Pandas Library for Data Processing \n",
    "- What is Pandas? \n",
    "    - Pandas is a fast, powerful, flexible and easy to use open source data analysis and manipulation tool, built on top of the Python programming language.\n",
    "    - Its main data format is the DataFrame, which is like a 2D array, but with column names and indexes for the rows.\n",
    "    - It is essentially the swiss army knife for your data. Using pandas, you get better undertand your data by cleaning, transforming, and analyzing it. \n",
    "    \n",
    "    - For example, say you want to explore a dataset stored in a CSV on your computer. Pandas will extract the data from that CSV into a DataFrame — a table, basically — then let you do things like:\n",
    "      - Calculate statistics and answer questions about the data, like\n",
    "      - What's the average, median, max, or min of each column? \n",
    "      - Does column A correlate with column B?\n",
    "      - What does the distribution of data in column C look like?\n",
    "      - Clean the data by doing things like removing missing values and filtering rows or columns by some criteria\n",
    "      - Store the cleaned, transformed data back into a CSV, other file or database\n",
    "      \n",
    "- Before you start visualizing data you need to have a good understanding of the nature of your dataset and pandas is the best package to do that.\n",
    "\n",
    "\n"
   ]
  },
  {
   "cell_type": "markdown",
   "id": "724d48a2",
   "metadata": {},
   "source": [
    "### Using pip to install Pandas "
   ]
  },
  {
   "cell_type": "code",
   "execution_count": 12,
   "id": "f14040e0",
   "metadata": {},
   "outputs": [
    {
     "name": "stdout",
     "output_type": "stream",
     "text": [
      "Requirement already satisfied: pandas in /opt/homebrew/Caskroom/miniforge/base/envs/cci/lib/python3.8/site-packages (1.5.1)\r\n",
      "Requirement already satisfied: python-dateutil>=2.8.1 in /opt/homebrew/Caskroom/miniforge/base/envs/cci/lib/python3.8/site-packages (from pandas) (2.8.2)\r\n",
      "Requirement already satisfied: pytz>=2020.1 in /opt/homebrew/Caskroom/miniforge/base/envs/cci/lib/python3.8/site-packages (from pandas) (2022.5)\r\n",
      "Requirement already satisfied: numpy>=1.20.3 in /opt/homebrew/Caskroom/miniforge/base/envs/cci/lib/python3.8/site-packages (from pandas) (1.23.2)\r\n",
      "Requirement already satisfied: six>=1.5 in /opt/homebrew/Caskroom/miniforge/base/envs/cci/lib/python3.8/site-packages (from python-dateutil>=2.8.1->pandas) (1.16.0)\r\n"
     ]
    }
   ],
   "source": [
    "# Need to only be run once per environment. No need to run it again in every project.\n",
    "\n",
    "import sys\n",
    "!{sys.executable} -m pip install pandas"
   ]
  },
  {
   "cell_type": "markdown",
   "id": "28d5fb75",
   "metadata": {},
   "source": [
    "### Importing pandas package library "
   ]
  },
  {
   "cell_type": "code",
   "execution_count": 2,
   "id": "b035f6ca",
   "metadata": {},
   "outputs": [],
   "source": [
    "# Imprting pandas library as pd so instead of wrting pandas everywhere we can call pd which is shorter\n",
    "import pandas as pd"
   ]
  },
  {
   "cell_type": "markdown",
   "id": "84ccd039",
   "metadata": {},
   "source": [
    "## Creating DataFrame from Scratch "
   ]
  },
  {
   "cell_type": "markdown",
   "id": "ce6a74a1",
   "metadata": {},
   "source": [
    "There are many ways to create a DataFrame from scratch, but to start with lets use a simple dictionary.\n",
    "\n",
    "Let's say we have a fruit stand that sells apples and oranges. We want to have a column for each fruit and a row for each customer purchase. To organize this as a dictionary for pandas we could do something like:\n",
    "\n",
    "Scratch Data Frame Example Adapated from https://www.learndatasci.com/tutorials/python-pandas-tutorial-complete-introduction-for-beginners/"
   ]
  },
  {
   "cell_type": "markdown",
   "id": "45f7975d",
   "metadata": {},
   "source": [
    "A dictionary is a collection which is ordered, changeable and do not allow duplicates.\n",
    "\n",
    "For more on dictiornay, arrys and list read here https://python.plainenglish.io/arrays-vs-list-vs-dictionaries-47058fa19d4e"
   ]
  },
  {
   "cell_type": "code",
   "execution_count": 13,
   "id": "c6f47fc0",
   "metadata": {},
   "outputs": [],
   "source": [
    "data = {\n",
    "    'apples': [3, 2, 0, 1], \n",
    "    'oranges': [0, 3, 7, 2]\n",
    "}"
   ]
  },
  {
   "cell_type": "code",
   "execution_count": 14,
   "id": "9e4a7141",
   "metadata": {},
   "outputs": [
    {
     "data": {
      "text/plain": [
       "{'apples': [3, 2, 0, 1], 'oranges': [0, 3, 7, 2]}"
      ]
     },
     "execution_count": 14,
     "metadata": {},
     "output_type": "execute_result"
    }
   ],
   "source": [
    "data"
   ]
  },
  {
   "cell_type": "markdown",
   "id": "b9f27fdb",
   "metadata": {},
   "source": [
    "And then pass it to the pandas DataFrame constructor:"
   ]
  },
  {
   "cell_type": "code",
   "execution_count": 4,
   "id": "245e33ef",
   "metadata": {},
   "outputs": [
    {
     "data": {
      "text/html": [
       "<div>\n",
       "<style scoped>\n",
       "    .dataframe tbody tr th:only-of-type {\n",
       "        vertical-align: middle;\n",
       "    }\n",
       "\n",
       "    .dataframe tbody tr th {\n",
       "        vertical-align: top;\n",
       "    }\n",
       "\n",
       "    .dataframe thead th {\n",
       "        text-align: right;\n",
       "    }\n",
       "</style>\n",
       "<table border=\"1\" class=\"dataframe\">\n",
       "  <thead>\n",
       "    <tr style=\"text-align: right;\">\n",
       "      <th></th>\n",
       "      <th>apples</th>\n",
       "      <th>oranges</th>\n",
       "    </tr>\n",
       "  </thead>\n",
       "  <tbody>\n",
       "    <tr>\n",
       "      <th>0</th>\n",
       "      <td>3</td>\n",
       "      <td>0</td>\n",
       "    </tr>\n",
       "    <tr>\n",
       "      <th>1</th>\n",
       "      <td>2</td>\n",
       "      <td>3</td>\n",
       "    </tr>\n",
       "    <tr>\n",
       "      <th>2</th>\n",
       "      <td>0</td>\n",
       "      <td>7</td>\n",
       "    </tr>\n",
       "    <tr>\n",
       "      <th>3</th>\n",
       "      <td>1</td>\n",
       "      <td>2</td>\n",
       "    </tr>\n",
       "  </tbody>\n",
       "</table>\n",
       "</div>"
      ],
      "text/plain": [
       "   apples  oranges\n",
       "0       3        0\n",
       "1       2        3\n",
       "2       0        7\n",
       "3       1        2"
      ]
     },
     "execution_count": 4,
     "metadata": {},
     "output_type": "execute_result"
    }
   ],
   "source": [
    "purchases = pd.DataFrame(data)\n",
    "\n",
    "purchases"
   ]
  },
  {
   "cell_type": "markdown",
   "id": "bae43cc9",
   "metadata": {},
   "source": [
    "How did that work?\n",
    "Each (key, value) item in data corresponds to a column in the resulting DataFrame.\n",
    "\n",
    "The Index of this DataFrame was given to us on creation as the numbers 0-3, but we could also create our own when we initialize the DataFrame.\n",
    "\n",
    "Let's have customer names as our index:"
   ]
  },
  {
   "cell_type": "code",
   "execution_count": 5,
   "id": "4c8477dd",
   "metadata": {},
   "outputs": [
    {
     "data": {
      "text/html": [
       "<div>\n",
       "<style scoped>\n",
       "    .dataframe tbody tr th:only-of-type {\n",
       "        vertical-align: middle;\n",
       "    }\n",
       "\n",
       "    .dataframe tbody tr th {\n",
       "        vertical-align: top;\n",
       "    }\n",
       "\n",
       "    .dataframe thead th {\n",
       "        text-align: right;\n",
       "    }\n",
       "</style>\n",
       "<table border=\"1\" class=\"dataframe\">\n",
       "  <thead>\n",
       "    <tr style=\"text-align: right;\">\n",
       "      <th></th>\n",
       "      <th>apples</th>\n",
       "      <th>oranges</th>\n",
       "    </tr>\n",
       "  </thead>\n",
       "  <tbody>\n",
       "    <tr>\n",
       "      <th>June</th>\n",
       "      <td>3</td>\n",
       "      <td>0</td>\n",
       "    </tr>\n",
       "    <tr>\n",
       "      <th>Robert</th>\n",
       "      <td>2</td>\n",
       "      <td>3</td>\n",
       "    </tr>\n",
       "    <tr>\n",
       "      <th>Lily</th>\n",
       "      <td>0</td>\n",
       "      <td>7</td>\n",
       "    </tr>\n",
       "    <tr>\n",
       "      <th>David</th>\n",
       "      <td>1</td>\n",
       "      <td>2</td>\n",
       "    </tr>\n",
       "  </tbody>\n",
       "</table>\n",
       "</div>"
      ],
      "text/plain": [
       "        apples  oranges\n",
       "June         3        0\n",
       "Robert       2        3\n",
       "Lily         0        7\n",
       "David        1        2"
      ]
     },
     "execution_count": 5,
     "metadata": {},
     "output_type": "execute_result"
    }
   ],
   "source": [
    "purchases = pd.DataFrame(data, index=['June', 'Robert', 'Lily', 'David'])\n",
    "\n",
    "purchases"
   ]
  },
  {
   "cell_type": "markdown",
   "id": "c9f0adb0",
   "metadata": {},
   "source": [
    "So now we could locate a customer's order by using their name:"
   ]
  },
  {
   "cell_type": "code",
   "execution_count": 9,
   "id": "0fd2c3e6",
   "metadata": {},
   "outputs": [
    {
     "data": {
      "text/plain": [
       "apples     3\n",
       "oranges    0\n",
       "Name: June, dtype: int64"
      ]
     },
     "execution_count": 9,
     "metadata": {},
     "output_type": "execute_result"
    }
   ],
   "source": [
    "purchases.loc['June']"
   ]
  },
  {
   "cell_type": "markdown",
   "id": "1fc5a137",
   "metadata": {},
   "source": [
    "## Loading and exploring data with Pandas"
   ]
  },
  {
   "cell_type": "markdown",
   "id": "add3e3eb",
   "metadata": {},
   "source": [
    "\n",
    "\n",
    "First we load in the data. This particular dataset is from [IMDB (Internet Movie Database)](https://www.kaggle.com/datasets/mustafacicek/imdb-top-250-lists-1996-2020?resource=download) and is in the **comma-separated variable (.csv)** format.\n",
    "\n",
    "``\n",
    "df = pd.read_csv(\"data/imdbTop250.csv\")\n",
    "``\n",
    "\n",
    "Pandas shows us the **head** (first rows) and the **tail** (last rows), as well as the **shape**. So we know there are 16 columns (separate pieces of info about each film), and 6500 films.\n"
   ]
  },
  {
   "cell_type": "code",
   "execution_count": 15,
   "id": "9bf25561",
   "metadata": {},
   "outputs": [],
   "source": [
    "#load\n",
    "#pd.options.display.max_rows = 100\n",
    "df = pd.read_csv(\"data/imdbTop250.csv\")"
   ]
  },
  {
   "cell_type": "code",
   "execution_count": 16,
   "id": "40d7b2cc",
   "metadata": {},
   "outputs": [
    {
     "data": {
      "text/html": [
       "<div>\n",
       "<style scoped>\n",
       "    .dataframe tbody tr th:only-of-type {\n",
       "        vertical-align: middle;\n",
       "    }\n",
       "\n",
       "    .dataframe tbody tr th {\n",
       "        vertical-align: top;\n",
       "    }\n",
       "\n",
       "    .dataframe thead th {\n",
       "        text-align: right;\n",
       "    }\n",
       "</style>\n",
       "<table border=\"1\" class=\"dataframe\">\n",
       "  <thead>\n",
       "    <tr style=\"text-align: right;\">\n",
       "      <th></th>\n",
       "      <th>Ranking</th>\n",
       "      <th>IMDByear</th>\n",
       "      <th>IMDBlink</th>\n",
       "      <th>Title</th>\n",
       "      <th>Date</th>\n",
       "      <th>RunTime</th>\n",
       "      <th>Genre</th>\n",
       "      <th>Rating</th>\n",
       "      <th>Score</th>\n",
       "      <th>Votes</th>\n",
       "      <th>Gross</th>\n",
       "      <th>Director</th>\n",
       "      <th>Cast1</th>\n",
       "      <th>Cast2</th>\n",
       "      <th>Cast3</th>\n",
       "      <th>Cast4</th>\n",
       "    </tr>\n",
       "  </thead>\n",
       "  <tbody>\n",
       "    <tr>\n",
       "      <th>0</th>\n",
       "      <td>1</td>\n",
       "      <td>1996</td>\n",
       "      <td>/title/tt0076759/</td>\n",
       "      <td>Star Wars: Episode IV - A New Hope</td>\n",
       "      <td>1977</td>\n",
       "      <td>121</td>\n",
       "      <td>Action, Adventure, Fantasy</td>\n",
       "      <td>8.6</td>\n",
       "      <td>90.0</td>\n",
       "      <td>1299781</td>\n",
       "      <td>322.74</td>\n",
       "      <td>George Lucas</td>\n",
       "      <td>Mark Hamill</td>\n",
       "      <td>Harrison Ford</td>\n",
       "      <td>Carrie Fisher</td>\n",
       "      <td>Alec Guinness</td>\n",
       "    </tr>\n",
       "    <tr>\n",
       "      <th>1</th>\n",
       "      <td>2</td>\n",
       "      <td>1996</td>\n",
       "      <td>/title/tt0111161/</td>\n",
       "      <td>The Shawshank Redemption</td>\n",
       "      <td>1994</td>\n",
       "      <td>142</td>\n",
       "      <td>Drama</td>\n",
       "      <td>9.3</td>\n",
       "      <td>80.0</td>\n",
       "      <td>2529673</td>\n",
       "      <td>28.34</td>\n",
       "      <td>Frank Darabont</td>\n",
       "      <td>Tim Robbins</td>\n",
       "      <td>Morgan Freeman</td>\n",
       "      <td>Bob Gunton</td>\n",
       "      <td>William Sadler</td>\n",
       "    </tr>\n",
       "    <tr>\n",
       "      <th>2</th>\n",
       "      <td>3</td>\n",
       "      <td>1996</td>\n",
       "      <td>/title/tt0117951/</td>\n",
       "      <td>Trainspotting</td>\n",
       "      <td>1996</td>\n",
       "      <td>93</td>\n",
       "      <td>Drama</td>\n",
       "      <td>8.1</td>\n",
       "      <td>83.0</td>\n",
       "      <td>665213</td>\n",
       "      <td>16.50</td>\n",
       "      <td>Danny Boyle</td>\n",
       "      <td>Ewan McGregor</td>\n",
       "      <td>Ewen Bremner</td>\n",
       "      <td>Jonny Lee Miller</td>\n",
       "      <td>Kevin McKidd</td>\n",
       "    </tr>\n",
       "    <tr>\n",
       "      <th>3</th>\n",
       "      <td>4</td>\n",
       "      <td>1996</td>\n",
       "      <td>/title/tt0114814/</td>\n",
       "      <td>The Usual Suspects</td>\n",
       "      <td>1995</td>\n",
       "      <td>106</td>\n",
       "      <td>Crime, Drama, Mystery</td>\n",
       "      <td>8.5</td>\n",
       "      <td>77.0</td>\n",
       "      <td>1045626</td>\n",
       "      <td>23.34</td>\n",
       "      <td>Bryan Singer</td>\n",
       "      <td>Kevin Spacey</td>\n",
       "      <td>Gabriel Byrne</td>\n",
       "      <td>Chazz Palminteri</td>\n",
       "      <td>Stephen Baldwin</td>\n",
       "    </tr>\n",
       "    <tr>\n",
       "      <th>4</th>\n",
       "      <td>5</td>\n",
       "      <td>1996</td>\n",
       "      <td>/title/tt0108598/</td>\n",
       "      <td>The Wrong Trousers</td>\n",
       "      <td>1993</td>\n",
       "      <td>30</td>\n",
       "      <td>Animation, Short, Comedy</td>\n",
       "      <td>8.3</td>\n",
       "      <td>NaN</td>\n",
       "      <td>53316</td>\n",
       "      <td>NaN</td>\n",
       "      <td>Nick Park</td>\n",
       "      <td>Peter Sallis</td>\n",
       "      <td>Peter Hawkins</td>\n",
       "      <td>NaN</td>\n",
       "      <td>NaN</td>\n",
       "    </tr>\n",
       "    <tr>\n",
       "      <th>...</th>\n",
       "      <td>...</td>\n",
       "      <td>...</td>\n",
       "      <td>...</td>\n",
       "      <td>...</td>\n",
       "      <td>...</td>\n",
       "      <td>...</td>\n",
       "      <td>...</td>\n",
       "      <td>...</td>\n",
       "      <td>...</td>\n",
       "      <td>...</td>\n",
       "      <td>...</td>\n",
       "      <td>...</td>\n",
       "      <td>...</td>\n",
       "      <td>...</td>\n",
       "      <td>...</td>\n",
       "      <td>...</td>\n",
       "    </tr>\n",
       "    <tr>\n",
       "      <th>6495</th>\n",
       "      <td>246</td>\n",
       "      <td>2021</td>\n",
       "      <td>/title/tt0058946/</td>\n",
       "      <td>The Battle of Algiers</td>\n",
       "      <td>1966</td>\n",
       "      <td>121</td>\n",
       "      <td>Drama, War</td>\n",
       "      <td>8.1</td>\n",
       "      <td>96.0</td>\n",
       "      <td>57995</td>\n",
       "      <td>0.06</td>\n",
       "      <td>Gillo Pontecorvo</td>\n",
       "      <td>Brahim Hadjadj</td>\n",
       "      <td>Jean Martin</td>\n",
       "      <td>Yacef Saadi</td>\n",
       "      <td>Samia Kerbash</td>\n",
       "    </tr>\n",
       "    <tr>\n",
       "      <th>6496</th>\n",
       "      <td>247</td>\n",
       "      <td>2021</td>\n",
       "      <td>/title/tt0050783/</td>\n",
       "      <td>Nights of Cabiria</td>\n",
       "      <td>1957</td>\n",
       "      <td>110</td>\n",
       "      <td>Drama</td>\n",
       "      <td>8.1</td>\n",
       "      <td>NaN</td>\n",
       "      <td>47318</td>\n",
       "      <td>0.75</td>\n",
       "      <td>Federico Fellini</td>\n",
       "      <td>Giulietta Masina</td>\n",
       "      <td>François Périer</td>\n",
       "      <td>Franca Marzi</td>\n",
       "      <td>Dorian Gray</td>\n",
       "    </tr>\n",
       "    <tr>\n",
       "      <th>6497</th>\n",
       "      <td>248</td>\n",
       "      <td>2021</td>\n",
       "      <td>/title/tt0093779/</td>\n",
       "      <td>The Princess Bride</td>\n",
       "      <td>1987</td>\n",
       "      <td>98</td>\n",
       "      <td>Adventure, Family, Fantasy</td>\n",
       "      <td>8.1</td>\n",
       "      <td>77.0</td>\n",
       "      <td>416207</td>\n",
       "      <td>30.86</td>\n",
       "      <td>Rob Reiner</td>\n",
       "      <td>Cary Elwes</td>\n",
       "      <td>Mandy Patinkin</td>\n",
       "      <td>Robin Wright</td>\n",
       "      <td>Chris Sarandon</td>\n",
       "    </tr>\n",
       "    <tr>\n",
       "      <th>6498</th>\n",
       "      <td>249</td>\n",
       "      <td>2021</td>\n",
       "      <td>/title/tt7060344/</td>\n",
       "      <td>Raatchasan</td>\n",
       "      <td>2018</td>\n",
       "      <td>170</td>\n",
       "      <td>Crime, Drama, Mystery</td>\n",
       "      <td>8.4</td>\n",
       "      <td>NaN</td>\n",
       "      <td>37474</td>\n",
       "      <td>NaN</td>\n",
       "      <td>Ram Kumar</td>\n",
       "      <td>Vishnu Vishal</td>\n",
       "      <td>Amala Paul</td>\n",
       "      <td>Radha Ravi</td>\n",
       "      <td>Sangili Murugan</td>\n",
       "    </tr>\n",
       "    <tr>\n",
       "      <th>6499</th>\n",
       "      <td>250</td>\n",
       "      <td>2021</td>\n",
       "      <td>/title/tt10280296/</td>\n",
       "      <td>Sardar Udham</td>\n",
       "      <td>2021</td>\n",
       "      <td>164</td>\n",
       "      <td>Biography, Crime, Drama</td>\n",
       "      <td>8.7</td>\n",
       "      <td>NaN</td>\n",
       "      <td>34889</td>\n",
       "      <td>NaN</td>\n",
       "      <td>Shoojit Sircar</td>\n",
       "      <td>Vicky Kaushal</td>\n",
       "      <td>Banita Sandhu</td>\n",
       "      <td>Shaun Scott</td>\n",
       "      <td>Stephen Hogan</td>\n",
       "    </tr>\n",
       "  </tbody>\n",
       "</table>\n",
       "<p>6500 rows × 16 columns</p>\n",
       "</div>"
      ],
      "text/plain": [
       "      Ranking  IMDByear            IMDBlink  \\\n",
       "0           1      1996   /title/tt0076759/   \n",
       "1           2      1996   /title/tt0111161/   \n",
       "2           3      1996   /title/tt0117951/   \n",
       "3           4      1996   /title/tt0114814/   \n",
       "4           5      1996   /title/tt0108598/   \n",
       "...       ...       ...                 ...   \n",
       "6495      246      2021   /title/tt0058946/   \n",
       "6496      247      2021   /title/tt0050783/   \n",
       "6497      248      2021   /title/tt0093779/   \n",
       "6498      249      2021   /title/tt7060344/   \n",
       "6499      250      2021  /title/tt10280296/   \n",
       "\n",
       "                                   Title  Date  RunTime  \\\n",
       "0     Star Wars: Episode IV - A New Hope  1977      121   \n",
       "1               The Shawshank Redemption  1994      142   \n",
       "2                          Trainspotting  1996       93   \n",
       "3                     The Usual Suspects  1995      106   \n",
       "4                     The Wrong Trousers  1993       30   \n",
       "...                                  ...   ...      ...   \n",
       "6495               The Battle of Algiers  1966      121   \n",
       "6496                   Nights of Cabiria  1957      110   \n",
       "6497                  The Princess Bride  1987       98   \n",
       "6498                          Raatchasan  2018      170   \n",
       "6499                        Sardar Udham  2021      164   \n",
       "\n",
       "                           Genre  Rating  Score    Votes   Gross  \\\n",
       "0     Action, Adventure, Fantasy     8.6   90.0  1299781  322.74   \n",
       "1                          Drama     9.3   80.0  2529673   28.34   \n",
       "2                          Drama     8.1   83.0   665213   16.50   \n",
       "3          Crime, Drama, Mystery     8.5   77.0  1045626   23.34   \n",
       "4       Animation, Short, Comedy     8.3    NaN    53316     NaN   \n",
       "...                          ...     ...    ...      ...     ...   \n",
       "6495                  Drama, War     8.1   96.0    57995    0.06   \n",
       "6496                       Drama     8.1    NaN    47318    0.75   \n",
       "6497  Adventure, Family, Fantasy     8.1   77.0   416207   30.86   \n",
       "6498       Crime, Drama, Mystery     8.4    NaN    37474     NaN   \n",
       "6499     Biography, Crime, Drama     8.7    NaN    34889     NaN   \n",
       "\n",
       "              Director              Cast1              Cast2  \\\n",
       "0         George Lucas        Mark Hamill      Harrison Ford   \n",
       "1       Frank Darabont        Tim Robbins     Morgan Freeman   \n",
       "2          Danny Boyle      Ewan McGregor       Ewen Bremner   \n",
       "3         Bryan Singer       Kevin Spacey      Gabriel Byrne   \n",
       "4            Nick Park       Peter Sallis      Peter Hawkins   \n",
       "...                ...                ...                ...   \n",
       "6495  Gillo Pontecorvo     Brahim Hadjadj        Jean Martin   \n",
       "6496  Federico Fellini   Giulietta Masina    François Périer   \n",
       "6497        Rob Reiner         Cary Elwes     Mandy Patinkin   \n",
       "6498         Ram Kumar      Vishnu Vishal         Amala Paul   \n",
       "6499    Shoojit Sircar      Vicky Kaushal      Banita Sandhu   \n",
       "\n",
       "                   Cast3              Cast4  \n",
       "0          Carrie Fisher      Alec Guinness  \n",
       "1             Bob Gunton     William Sadler  \n",
       "2       Jonny Lee Miller       Kevin McKidd  \n",
       "3       Chazz Palminteri    Stephen Baldwin  \n",
       "4                    NaN                NaN  \n",
       "...                  ...                ...  \n",
       "6495         Yacef Saadi      Samia Kerbash  \n",
       "6496        Franca Marzi        Dorian Gray  \n",
       "6497        Robin Wright     Chris Sarandon  \n",
       "6498          Radha Ravi    Sangili Murugan  \n",
       "6499         Shaun Scott      Stephen Hogan  \n",
       "\n",
       "[6500 rows x 16 columns]"
      ]
     },
     "execution_count": 16,
     "metadata": {},
     "output_type": "execute_result"
    }
   ],
   "source": [
    "df"
   ]
  },
  {
   "cell_type": "code",
   "execution_count": null,
   "id": "92066fef",
   "metadata": {},
   "outputs": [],
   "source": []
  }
 ],
 "metadata": {
  "kernelspec": {
   "display_name": "Python 3 (ipykernel)",
   "language": "python",
   "name": "python3"
  },
  "language_info": {
   "codemirror_mode": {
    "name": "ipython",
    "version": 3
   },
   "file_extension": ".py",
   "mimetype": "text/x-python",
   "name": "python",
   "nbconvert_exporter": "python",
   "pygments_lexer": "ipython3",
   "version": "3.8.13"
  }
 },
 "nbformat": 4,
 "nbformat_minor": 5
}
